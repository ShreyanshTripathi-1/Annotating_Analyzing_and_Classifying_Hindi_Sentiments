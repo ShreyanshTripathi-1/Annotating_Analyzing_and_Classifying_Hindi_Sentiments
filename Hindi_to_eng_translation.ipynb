{
 "cells": [
  {
   "cell_type": "code",
   "execution_count": 18,
   "id": "bb32de3a",
   "metadata": {},
   "outputs": [],
   "source": [
    "import pandas as pd"
   ]
  },
  {
   "cell_type": "code",
   "execution_count": 19,
   "id": "d820597e",
   "metadata": {},
   "outputs": [],
   "source": [
    "from deep_translator import GoogleTranslator"
   ]
  },
  {
   "cell_type": "code",
   "execution_count": 20,
   "id": "3d444f65",
   "metadata": {},
   "outputs": [
    {
     "name": "stderr",
     "output_type": "stream",
     "text": [
      "/tmp/ipykernel_1521755/534477683.py:1: ParserWarning: Falling back to the 'python' engine because the 'c' engine does not support regex separators (separators > 1 char and different from '\\s+' are interpreted as regex); you can avoid this warning by specifying engine='python'.\n",
      "  data = pd.read_csv('hello.txt',header= None,sep='delimiter',on_bad_lines = 'skip',encoding='utf-8')\n"
     ]
    }
   ],
   "source": [
    "data = pd.read_csv('Datasets/hello.txt',header= None,sep='delimiter',on_bad_lines = 'skip',encoding='utf-8')"
   ]
  },
  {
   "cell_type": "code",
   "execution_count": 29,
   "id": "09f2593a",
   "metadata": {},
   "outputs": [],
   "source": [
    "l  = []\n",
    "index = []"
   ]
  },
  {
   "cell_type": "code",
   "execution_count": 30,
   "id": "ea6577d9",
   "metadata": {},
   "outputs": [],
   "source": [
    "i = 0\n",
    "sentences = data.iloc[:100000,0]\n",
    "for sentence in sentences:\n",
    "    i += 1\n",
    "    try:\n",
    "        translated_text = GoogleTranslator(source='auto',target='en').translate(sentence)\n",
    "        l.append(translated_text)\n",
    "    except:\n",
    "        index.append(i)"
   ]
  },
  {
   "cell_type": "code",
   "execution_count": 31,
   "id": "8ad32e55",
   "metadata": {},
   "outputs": [],
   "source": [
    "import pickle\n",
    "with open('eng.pkl', 'wb') as file:\n",
    "      \n",
    "    # A new file will be created\n",
    "    pickle.dump(l, file)"
   ]
  }
 ],
 "metadata": {
  "kernelspec": {
   "display_name": "Python 3.9.7 ('base')",
   "language": "python",
   "name": "python3"
  },
  "language_info": {
   "codemirror_mode": {
    "name": "ipython",
    "version": 3
   },
   "file_extension": ".py",
   "mimetype": "text/x-python",
   "name": "python",
   "nbconvert_exporter": "python",
   "pygments_lexer": "ipython3",
   "version": "3.9.7"
  },
  "vscode": {
   "interpreter": {
    "hash": "631af202ec7c40e141c49d63cac6c8cb664469fed6e4d5ddc6436b49edc60500"
   }
  }
 },
 "nbformat": 4,
 "nbformat_minor": 5
}
